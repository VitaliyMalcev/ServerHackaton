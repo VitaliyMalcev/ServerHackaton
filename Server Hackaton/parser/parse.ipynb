{
 "cells": [
  {
   "cell_type": "code",
   "execution_count": 7,
   "metadata": {
    "ExecuteTime": {
     "end_time": "2022-03-04T15:33:51.077640Z",
     "start_time": "2022-03-04T15:33:51.075228Z"
    }
   },
   "outputs": [],
   "source": [
    "import seaborn as sns\n",
    "import matplotlib.pyplot as plt\n",
    "import pandas as pd\n",
    "from datetime import datetime\n",
    "from matplotlib import rcParams\n",
    "import requests"
   ]
  },
  {
   "cell_type": "markdown",
   "metadata": {
    "ExecuteTime": {
     "end_time": "2022-03-08T13:07:22.589504Z",
     "start_time": "2022-03-08T13:07:22.585242Z"
    }
   },
   "source": [
    "В этом блокноте реализван парсин биржевых цен на выбранную категорию по дням за последние 10 лет, при помощи yahoo finance api. \n",
    "(бесплатная верси) В данном случае мы парсим только стоимсть доллара к рублю.\n",
    "\n",
    "https://rapidapi.com/blog/yahoo-finance-api-python/"
   ]
  },
  {
   "cell_type": "code",
   "execution_count": 40,
   "metadata": {
    "ExecuteTime": {
     "end_time": "2022-03-04T16:12:55.350425Z",
     "start_time": "2022-03-04T16:12:55.342101Z"
    },
    "code_folding": [
     0,
     14,
     28,
     35,
     45,
     48
    ]
   },
   "outputs": [],
   "source": [
    "def parce_the_data(host, key, interval, name, range_of_data, region):\n",
    "    url = \"https://yh-finance.p.rapidapi.com/stock/v2/get-chart\"\n",
    "\n",
    "    querystring = {\"interval\":interval,\"symbol\":name,\"range\":range_of_data,\"region\":region}\n",
    "\n",
    "    headers = {\n",
    "        'x-rapidapi-host': host,\n",
    "        'x-rapidapi-key': key\n",
    "        }\n",
    "\n",
    "    response = requests.request(\"GET\", url, headers=headers, params=querystring)\n",
    "    \n",
    "    return response.json()\n",
    "  \n",
    "def parseTimestamp(inputdata):\n",
    "    timestamplist = []\n",
    "\n",
    "    timestamplist.extend(inputdata[\"chart\"][\"result\"][0][\"timestamp\"])\n",
    "    timestamplist.extend(inputdata[\"chart\"][\"result\"][0][\"timestamp\"])\n",
    "\n",
    "    calendertime = []\n",
    "\n",
    "    for ts in timestamplist:\n",
    "        dt = datetime.fromtimestamp(ts)\n",
    "        calendertime.append(dt.strftime(\"%m/%d/%Y\"))\n",
    "        \n",
    "    return calendertime\n",
    "\n",
    "def parseValues(inputdata):\n",
    "    valueList = []\n",
    "    valueList.extend(inputdata[\"chart\"][\"result\"][0][\"indicators\"][\"quote\"][0][\"open\"])\n",
    "    valueList.extend(inputdata[\"chart\"][\"result\"][0][\"indicators\"][\"quote\"][0][\"close\"])\n",
    "\n",
    "    return valueList\n",
    "\n",
    "def attachEvents(inputdata):\n",
    "    eventlist = []\n",
    "    for i in range(0,len(inputdata[\"chart\"][\"result\"][0][\"timestamp\"])):\n",
    "        eventlist.append(\"open\")  \n",
    "\n",
    "    for i in range(0,len(inputdata[\"chart\"][\"result\"][0][\"timestamp\"])):\n",
    "        eventlist.append(\"close\")\n",
    "\n",
    "    return eventlist\n",
    "\n",
    "def make_data_frame_with_history(host, key, interval, name, range_of_data, region):\n",
    "    response = parce_the_data(host, key, interval, name, range_of_data, region)\n",
    "    \n",
    "    if (None != inputdata): \n",
    "\n",
    "        inputdata[\"Timestamp\"] = parseTimestamp(response)\n",
    "\n",
    "        inputdata[\"Values\"] = parseValues(response)\n",
    "\n",
    "        inputdata[\"Events\"] = attachEvents(response)\n",
    "\n",
    "        df= pd.DataFrame(inputdata)\n",
    "        df = df[df['Events']=='open']\n",
    "        df = df.drop('Events',axis=1)\n",
    "        df = df.rename(columns = {'Values':name} )\n",
    "        \n",
    "        return df\n",
    "            "
   ]
  },
  {
   "cell_type": "code",
   "execution_count": 41,
   "metadata": {
    "ExecuteTime": {
     "end_time": "2022-03-04T16:12:58.284406Z",
     "start_time": "2022-03-04T16:12:55.960041Z"
    }
   },
   "outputs": [],
   "source": [
    "#используя эту функцию мы получаем датафрейм с ежедневной ценой выбранной позиции на момент открытия торгов\n",
    "#каждый день за последние 10 лет\n",
    "\n",
    "#в данном случае мы парсим стоимость доллара к рублю\n",
    "\n",
    "host = \"yh-finance.p.rapidapi.com\"\n",
    "key = #мой апи ключ\n",
    "\n",
    "df = make_data_frame_with_history(host, key, \"1d\", 'RUB=X', \"10y\", \"US\")"
   ]
  },
  {
   "cell_type": "code",
   "execution_count": 42,
   "metadata": {
    "ExecuteTime": {
     "end_time": "2022-03-04T16:12:58.292998Z",
     "start_time": "2022-03-04T16:12:58.285820Z"
    }
   },
   "outputs": [
    {
     "data": {
      "text/html": [
       "<div>\n",
       "<style scoped>\n",
       "    .dataframe tbody tr th:only-of-type {\n",
       "        vertical-align: middle;\n",
       "    }\n",
       "\n",
       "    .dataframe tbody tr th {\n",
       "        vertical-align: top;\n",
       "    }\n",
       "\n",
       "    .dataframe thead th {\n",
       "        text-align: right;\n",
       "    }\n",
       "</style>\n",
       "<table border=\"1\" class=\"dataframe\">\n",
       "  <thead>\n",
       "    <tr style=\"text-align: right;\">\n",
       "      <th></th>\n",
       "      <th>Timestamp</th>\n",
       "      <th>RUB=X</th>\n",
       "    </tr>\n",
       "  </thead>\n",
       "  <tbody>\n",
       "    <tr>\n",
       "      <th>0</th>\n",
       "      <td>03/05/2012</td>\n",
       "      <td>29.330200</td>\n",
       "    </tr>\n",
       "    <tr>\n",
       "      <th>1</th>\n",
       "      <td>03/06/2012</td>\n",
       "      <td>29.338200</td>\n",
       "    </tr>\n",
       "    <tr>\n",
       "      <th>2</th>\n",
       "      <td>03/07/2012</td>\n",
       "      <td>29.632200</td>\n",
       "    </tr>\n",
       "    <tr>\n",
       "      <th>3</th>\n",
       "      <td>03/08/2012</td>\n",
       "      <td>29.609200</td>\n",
       "    </tr>\n",
       "    <tr>\n",
       "      <th>4</th>\n",
       "      <td>03/09/2012</td>\n",
       "      <td>29.341200</td>\n",
       "    </tr>\n",
       "    <tr>\n",
       "      <th>...</th>\n",
       "      <td>...</td>\n",
       "      <td>...</td>\n",
       "    </tr>\n",
       "    <tr>\n",
       "      <th>2605</th>\n",
       "      <td>02/28/2022</td>\n",
       "      <td>83.865799</td>\n",
       "    </tr>\n",
       "    <tr>\n",
       "      <th>2606</th>\n",
       "      <td>03/01/2022</td>\n",
       "      <td>104.973503</td>\n",
       "    </tr>\n",
       "    <tr>\n",
       "      <th>2607</th>\n",
       "      <td>03/02/2022</td>\n",
       "      <td>108.479500</td>\n",
       "    </tr>\n",
       "    <tr>\n",
       "      <th>2608</th>\n",
       "      <td>03/03/2022</td>\n",
       "      <td>102.714996</td>\n",
       "    </tr>\n",
       "    <tr>\n",
       "      <th>2609</th>\n",
       "      <td>03/04/2022</td>\n",
       "      <td>109.489899</td>\n",
       "    </tr>\n",
       "  </tbody>\n",
       "</table>\n",
       "<p>2610 rows × 2 columns</p>\n",
       "</div>"
      ],
      "text/plain": [
       "       Timestamp       RUB=X\n",
       "0     03/05/2012   29.330200\n",
       "1     03/06/2012   29.338200\n",
       "2     03/07/2012   29.632200\n",
       "3     03/08/2012   29.609200\n",
       "4     03/09/2012   29.341200\n",
       "...          ...         ...\n",
       "2605  02/28/2022   83.865799\n",
       "2606  03/01/2022  104.973503\n",
       "2607  03/02/2022  108.479500\n",
       "2608  03/03/2022  102.714996\n",
       "2609  03/04/2022  109.489899\n",
       "\n",
       "[2610 rows x 2 columns]"
      ]
     },
     "execution_count": 42,
     "metadata": {},
     "output_type": "execute_result"
    }
   ],
   "source": [
    "df"
   ]
  },
  {
   "cell_type": "code",
   "execution_count": 43,
   "metadata": {
    "ExecuteTime": {
     "end_time": "2022-03-04T16:21:06.739780Z",
     "start_time": "2022-03-04T16:21:06.730374Z"
    }
   },
   "outputs": [],
   "source": [
    "df.to_csv('RUB=X.csv', index= False)"
   ]
  },
  {
   "cell_type": "code",
   "execution_count": null,
   "metadata": {},
   "outputs": [],
   "source": []
  }
 ],
 "metadata": {
  "kernelspec": {
   "display_name": "Python 3",
   "language": "python",
   "name": "python3"
  },
  "language_info": {
   "codemirror_mode": {
    "name": "ipython",
    "version": 3
   },
   "file_extension": ".py",
   "mimetype": "text/x-python",
   "name": "python",
   "nbconvert_exporter": "python",
   "pygments_lexer": "ipython3",
   "version": "3.8.5"
  },
  "toc": {
   "base_numbering": 1,
   "nav_menu": {},
   "number_sections": true,
   "sideBar": true,
   "skip_h1_title": false,
   "title_cell": "Table of Contents",
   "title_sidebar": "Contents",
   "toc_cell": false,
   "toc_position": {},
   "toc_section_display": true,
   "toc_window_display": false
  }
 },
 "nbformat": 4,
 "nbformat_minor": 4
}
