{
 "cells": [
  {
   "cell_type": "code",
   "execution_count": 1,
   "metadata": {
    "ExecuteTime": {
     "end_time": "2022-03-19T12:32:45.725804Z",
     "start_time": "2022-03-19T12:32:43.896047Z"
    }
   },
   "outputs": [],
   "source": [
    "import seaborn as sns\n",
    "import matplotlib.pyplot as plt\n",
    "import pandas as pd\n",
    "from datetime import datetime\n",
    "from matplotlib import rcParams\n",
    "import requests\n",
    "import time\n",
    "import os"
   ]
  },
  {
   "cell_type": "markdown",
   "metadata": {
    "ExecuteTime": {
     "end_time": "2022-03-08T13:07:22.589504Z",
     "start_time": "2022-03-08T13:07:22.585242Z"
    }
   },
   "source": [
    "В этом блокноте мы скачиваем биржевую стоимость акций различных сырьевых компаний и некоторые фьючерсы при помощи yahoo finance api.\n",
    "Из execel файла matrials скаченного с yahoo мы берем наименования сырьевых компаний.\n",
    "\n",
    "Мы сохраняем биржевые показатели в папку basic_matrials_load, а фьючерсы в basic_futures_and_other_load.\n",
    "\n",
    "\n",
    "\n",
    "Используя бесплатный апи ключ yahoo, мы ограничены 500 запросами."
   ]
  },
  {
   "cell_type": "code",
   "execution_count": 2,
   "metadata": {
    "ExecuteTime": {
     "end_time": "2022-03-19T12:32:45.737211Z",
     "start_time": "2022-03-19T12:32:45.727918Z"
    },
    "code_folding": [
     0,
     5,
     14,
     28,
     35,
     45
    ]
   },
   "outputs": [],
   "source": [
    "def parce_the_data(host, key, interval, name, range_of_data, region):\n",
    "    url = \"https://yh-finance.p.rapidapi.com/stock/v2/get-chart\"\n",
    "\n",
    "    querystring = {\"interval\":interval,\"symbol\":name,\"range\":range_of_data,\"region\":region}\n",
    "\n",
    "    headers = {\n",
    "        'x-rapidapi-host': host,\n",
    "        'x-rapidapi-key': key\n",
    "        }\n",
    "\n",
    "    response = requests.request(\"GET\", url, headers=headers, params=querystring)\n",
    "    \n",
    "    return response.json()\n",
    "  \n",
    "def parseTimestamp(inputdata):\n",
    "    timestamplist = []\n",
    "\n",
    "    timestamplist.extend(inputdata[\"chart\"][\"result\"][0][\"timestamp\"])\n",
    "    timestamplist.extend(inputdata[\"chart\"][\"result\"][0][\"timestamp\"])\n",
    "\n",
    "    calendertime = []\n",
    "\n",
    "    for ts in timestamplist:\n",
    "        dt = datetime.fromtimestamp(ts)\n",
    "        calendertime.append(dt.strftime(\"%m/%d/%Y\"))\n",
    "        \n",
    "    return calendertime\n",
    "\n",
    "def parseValues(inputdata):\n",
    "    valueList = []\n",
    "    valueList.extend(inputdata[\"chart\"][\"result\"][0][\"indicators\"][\"quote\"][0][\"open\"])\n",
    "    valueList.extend(inputdata[\"chart\"][\"result\"][0][\"indicators\"][\"quote\"][0][\"close\"])\n",
    "\n",
    "    return valueList\n",
    "\n",
    "def attachEvents(inputdata):\n",
    "    eventlist = []\n",
    "    for i in range(0,len(inputdata[\"chart\"][\"result\"][0][\"timestamp\"])):\n",
    "        eventlist.append(\"open\")  \n",
    "\n",
    "    for i in range(0,len(inputdata[\"chart\"][\"result\"][0][\"timestamp\"])):\n",
    "        eventlist.append(\"close\")\n",
    "\n",
    "    return eventlist\n",
    "\n",
    "def make_data_frame_with_history(host, key, interval, name, range_of_data, region):\n",
    "    response = parce_the_data(host, key, interval, name, range_of_data, region)\n",
    "    inputdata = pd.DataFrame()\n",
    "    inputdata[\"Timestamp\"] = parseTimestamp(response)\n",
    "    inputdata[\"Values\"] = parseValues(response)\n",
    "    inputdata[\"Events\"] = attachEvents(response)\n",
    "\n",
    "    df= pd.DataFrame(inputdata)\n",
    "    df = df[df['Events']=='open']\n",
    "    df = df.drop('Events',axis=1)\n",
    "    df = df.rename(columns = {'Values':name} )\n",
    "\n",
    "    \n",
    "    df['Timestamp'] = pd.to_datetime(df['Timestamp'])\n",
    "    df = df.drop_duplicates()\n",
    "    df = df.drop_duplicates(subset = 'Timestamp')\n",
    "    idx = pd.date_range(str(df['Timestamp'].min()), str(df['Timestamp'].max()))\n",
    "    df = df.set_index('Timestamp')\n",
    "    df.index = pd.DatetimeIndex(df.index)\n",
    "    df = df.reindex(idx)\n",
    "    df=df.fillna(method='ffill')\n",
    "    \n",
    "    return df\n",
    "            "
   ]
  },
  {
   "cell_type": "code",
   "execution_count": 3,
   "metadata": {
    "ExecuteTime": {
     "end_time": "2022-03-19T12:32:48.419926Z",
     "start_time": "2022-03-19T12:32:46.484480Z"
    }
   },
   "outputs": [
    {
     "data": {
      "text/html": [
       "<div>\n",
       "<style scoped>\n",
       "    .dataframe tbody tr th:only-of-type {\n",
       "        vertical-align: middle;\n",
       "    }\n",
       "\n",
       "    .dataframe tbody tr th {\n",
       "        vertical-align: top;\n",
       "    }\n",
       "\n",
       "    .dataframe thead th {\n",
       "        text-align: right;\n",
       "    }\n",
       "</style>\n",
       "<table border=\"1\" class=\"dataframe\">\n",
       "  <thead>\n",
       "    <tr style=\"text-align: right;\">\n",
       "      <th></th>\n",
       "      <th>IRON.TO</th>\n",
       "    </tr>\n",
       "  </thead>\n",
       "  <tbody>\n",
       "    <tr>\n",
       "      <th>2012-03-19</th>\n",
       "      <td>3.150</td>\n",
       "    </tr>\n",
       "    <tr>\n",
       "      <th>2012-03-20</th>\n",
       "      <td>3.060</td>\n",
       "    </tr>\n",
       "    <tr>\n",
       "      <th>2012-03-21</th>\n",
       "      <td>2.970</td>\n",
       "    </tr>\n",
       "    <tr>\n",
       "      <th>2012-03-22</th>\n",
       "      <td>2.860</td>\n",
       "    </tr>\n",
       "    <tr>\n",
       "      <th>2012-03-23</th>\n",
       "      <td>2.940</td>\n",
       "    </tr>\n",
       "    <tr>\n",
       "      <th>...</th>\n",
       "      <td>...</td>\n",
       "    </tr>\n",
       "    <tr>\n",
       "      <th>2022-03-13</th>\n",
       "      <td>0.075</td>\n",
       "    </tr>\n",
       "    <tr>\n",
       "      <th>2022-03-14</th>\n",
       "      <td>0.075</td>\n",
       "    </tr>\n",
       "    <tr>\n",
       "      <th>2022-03-15</th>\n",
       "      <td>0.075</td>\n",
       "    </tr>\n",
       "    <tr>\n",
       "      <th>2022-03-16</th>\n",
       "      <td>0.075</td>\n",
       "    </tr>\n",
       "    <tr>\n",
       "      <th>2022-03-17</th>\n",
       "      <td>0.075</td>\n",
       "    </tr>\n",
       "  </tbody>\n",
       "</table>\n",
       "<p>3651 rows × 1 columns</p>\n",
       "</div>"
      ],
      "text/plain": [
       "            IRON.TO\n",
       "2012-03-19    3.150\n",
       "2012-03-20    3.060\n",
       "2012-03-21    2.970\n",
       "2012-03-22    2.860\n",
       "2012-03-23    2.940\n",
       "...             ...\n",
       "2022-03-13    0.075\n",
       "2022-03-14    0.075\n",
       "2022-03-15    0.075\n",
       "2022-03-16    0.075\n",
       "2022-03-17    0.075\n",
       "\n",
       "[3651 rows x 1 columns]"
      ]
     },
     "execution_count": 3,
     "metadata": {},
     "output_type": "execute_result"
    }
   ],
   "source": [
    "#используя эту функцию мы получаем датафрейм с ежедневной ценой выбранной позиции на момент открытия торгов\n",
    "#каждый день за последние 10 лет\n",
    "\n",
    "\n",
    "host = \"yh-finance.p.rapidapi.com\"\n",
    "key = \"e7d7e7bd25msha8134841232e012p1c4bd4jsnc23ef6c6cd42\"\n",
    "\n",
    "df = make_data_frame_with_history(host, key, \"1d\", 'IRON.TO', \"10y\", \"US\")\n",
    "df"
   ]
  },
  {
   "cell_type": "code",
   "execution_count": 40,
   "metadata": {
    "ExecuteTime": {
     "end_time": "2022-03-17T09:54:31.656576Z",
     "start_time": "2022-03-17T09:54:31.623010Z"
    }
   },
   "outputs": [],
   "source": [
    "names_of_companies= list(pd.read_excel('basic_materials.xlsx')['Symbol'].unique())\n",
    "\n",
    "for name in names_of_companies:\n",
    "    if name+'.csv' not in os.listdir('basic_matrials_load/'):\n",
    "        print(name)\n",
    "        data = make_data_frame_with_history(host, key, \"1d\", name, \"10y\", \"US\")\n",
    "        data.to_csv('basic_matrials_load/'+name+'.csv')\n",
    "        time.sleep(5)"
   ]
  },
  {
   "cell_type": "code",
   "execution_count": 41,
   "metadata": {
    "ExecuteTime": {
     "end_time": "2022-03-17T10:00:25.979377Z",
     "start_time": "2022-03-17T10:00:23.520445Z"
    }
   },
   "outputs": [],
   "source": [
    "data = make_data_frame_with_history(host, key, \"1d\", 'RUB=X', \"10y\", \"US\")\n",
    "data.to_csv('RUB=X.csv')"
   ]
  },
  {
   "cell_type": "code",
   "execution_count": 45,
   "metadata": {
    "ExecuteTime": {
     "end_time": "2022-03-19T07:23:13.548290Z",
     "start_time": "2022-03-19T07:23:06.499880Z"
    }
   },
   "outputs": [
    {
     "name": "stdout",
     "output_type": "stream",
     "text": [
      "RUB=X\n"
     ]
    }
   ],
   "source": [
    "names_of_futures = ['GC=F','HDG=F','HG=F','CL=F','HO=F', '^STEEL', 'SI=F','RUB=X']\n",
    "\n",
    "for name in names_of_futures:\n",
    "    if name+'.csv' not in os.listdir('basic_futures_and_other_load/'):\n",
    "        print(name)\n",
    "        data = make_data_frame_with_history(host, key, \"1d\", name, \"10y\", \"US\")\n",
    "        data.to_csv('basic_futures_and_other_load/'+name+'.csv')\n",
    "        time.sleep(5)"
   ]
  }
 ],
 "metadata": {
  "kernelspec": {
   "display_name": "Python 3",
   "language": "python",
   "name": "python3"
  },
  "language_info": {
   "codemirror_mode": {
    "name": "ipython",
    "version": 3
   },
   "file_extension": ".py",
   "mimetype": "text/x-python",
   "name": "python",
   "nbconvert_exporter": "python",
   "pygments_lexer": "ipython3",
   "version": "3.8.5"
  },
  "toc": {
   "base_numbering": 1,
   "nav_menu": {},
   "number_sections": true,
   "sideBar": true,
   "skip_h1_title": false,
   "title_cell": "Table of Contents",
   "title_sidebar": "Contents",
   "toc_cell": false,
   "toc_position": {},
   "toc_section_display": true,
   "toc_window_display": false
  }
 },
 "nbformat": 4,
 "nbformat_minor": 4
}
