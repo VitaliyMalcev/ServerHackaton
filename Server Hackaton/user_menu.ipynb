{
 "cells": [
  {
   "cell_type": "code",
   "execution_count": 2,
   "metadata": {
    "ExecuteTime": {
     "end_time": "2022-03-19T15:55:09.485858Z",
     "start_time": "2022-03-19T15:55:09.237768Z"
    }
   },
   "outputs": [],
   "source": [
    "import pickle\n",
    "import pandas as pd\n",
    "top = pd.read_csv('top_final.csv')\n",
    "\n",
    "#basline_mape <10% и низкая дисперсия в цене\n",
    "simple_category = ['Зуб 1085.52.05-1', 'Вал 3519.05.02.083','Вал 3572.05.10.200','Засов 3532.01.02.007',\n",
    "                  'Засов 3532.01.02.007', 'Вал 3572.05.10.150', 'Сателлит 3536.11.01.028', 'Колесо 3519.05.02.061',\n",
    "                  'Вал 3519.05.02.007', 'Ось 3536.03.00.001', 'Коромысло 3537.25.00.500 ']\n",
    "\n",
    "#catboost_model < 10%\n",
    "model_category = ['Колесо 3519.05.02.006','Вал 3536.11.01.002','Ось 3519.21.00.025','Коромысло 3519.21.00.023',\n",
    "                 'ВАЛ-ШЕСТЕРНЯ 3536.11.01.002 ','Вал 3532.10.01.011', 'Колесо 3519.05.02.003',\n",
    "                 'Ось 3519.05.02.081']\n",
    "#высокая дисперсия и ошибка более 10% везде\n",
    "unreal_category = ['Вант стрелы 00.1606.49.1 ','Ось 3519.05.02.082', ]"
   ]
  },
  {
   "cell_type": "markdown",
   "metadata": {},
   "source": [
    "Сделаем прототип пользовательского меню. Мы успели предрасчитать стоимость закзаов только на сегодняшнюю дату"
   ]
  },
  {
   "cell_type": "code",
   "execution_count": 13,
   "metadata": {
    "ExecuteTime": {
     "end_time": "2022-03-19T15:57:57.285599Z",
     "start_time": "2022-03-19T15:57:57.281296Z"
    }
   },
   "outputs": [],
   "source": [
    "\n",
    "def explane_cost(name):\n",
    "\n",
    "\n",
    "    print(name)\n",
    "    if name not in list(top['товары']):\n",
    "        print('Ошибка в названии товара')\n",
    "        return None\n",
    "    if name in unreal_category:\n",
    "        print('К сожалению по этой категории мы не можем сделать предсказание')\n",
    "        return None\n",
    "    if name in simple_category:\n",
    "        print('В данной категории низкий разброс цен и можно предсказывать по предыдущей цене')\n",
    "        print('Стоимость предыдущей закупки данного товара:', top[top['товары']==name]['last_price'])\n",
    "        print('Примерная стоимость в диапазоне процентов',top[top['товары']==name]['baseline_std_mape'])\n",
    "        return None\n",
    "    if name in model_category:\n",
    "        print('Мы используем модель для предскзания данной категории')\n",
    "        model = pickle.load(open('models/'+name+'.pickle', 'rb'))\n",
    "        print('Стоимость предыдущей закупки данного товара:', top[top['товары']==name]['last_price'])\n",
    "        print('Рекомендуемая стоимость закупки сегодня',top[top['товары']==name]['today_prediction'] )\n",
    "        print('Топ 5 Признаков используемые моделью', model.get_feature_importance(prettified=True)[:5]['Feature Id'] )\n",
    "        return None\n",
    "    return False\n",
    "    "
   ]
  },
  {
   "cell_type": "code",
   "execution_count": 17,
   "metadata": {
    "ExecuteTime": {
     "end_time": "2022-03-19T15:59:01.279726Z",
     "start_time": "2022-03-19T15:59:01.274062Z"
    }
   },
   "outputs": [
    {
     "name": "stdout",
     "output_type": "stream",
     "text": [
      "Ось 3536.03.00.001\n",
      "В данной категории низкий разброс цен и можно предсказывать по предыдущей цене\n",
      "Стоимость предыдущей закупки данного товара: 18    251592.356688\n",
      "Name: last_price, dtype: float64\n",
      "Примерная стоимость в диапазоне процентов 18    9.804882\n",
      "Name: baseline_std_mape, dtype: float64\n"
     ]
    }
   ],
   "source": [
    "#примеры использования\n",
    "explane_cost('Ось 3536.03.00.001')"
   ]
  },
  {
   "cell_type": "code",
   "execution_count": 18,
   "metadata": {
    "ExecuteTime": {
     "end_time": "2022-03-19T15:59:55.438658Z",
     "start_time": "2022-03-19T15:59:55.420874Z"
    }
   },
   "outputs": [
    {
     "name": "stdout",
     "output_type": "stream",
     "text": [
      "Колесо 3519.05.02.003\n",
      "Мы используем модель для предскзания данной категории\n",
      "Стоимость предыдущей закупки данного товара: 13    279490.44586\n",
      "Name: last_price, dtype: float64\n",
      "Рекомендуемая стоимость закупки сегодня 13    283549.747712\n",
      "Name: today_prediction, dtype: float64\n",
      "Топ 5 Признаков используемые моделью 0       JTLINFRA.BO_max_last_30\n",
      "1    GSCLCEMENT.BO_max_last_100\n",
      "2             SCHN_mean_last_30\n",
      "3              CRH_max_last_100\n",
      "4               LAC_min_last_30\n",
      "Name: Feature Id, dtype: object\n"
     ]
    }
   ],
   "source": [
    "# 'Введите название товара, например: 'ВАЛ-ШЕСТЕРНЯ 3536.11.01.002 '\n",
    "explane_cost('Колесо 3519.05.02.003')"
   ]
  },
  {
   "cell_type": "code",
   "execution_count": null,
   "metadata": {},
   "outputs": [],
   "source": []
  }
 ],
 "metadata": {
  "kernelspec": {
   "display_name": "Python 3",
   "language": "python",
   "name": "python3"
  },
  "language_info": {
   "codemirror_mode": {
    "name": "ipython",
    "version": 3
   },
   "file_extension": ".py",
   "mimetype": "text/x-python",
   "name": "python",
   "nbconvert_exporter": "python",
   "pygments_lexer": "ipython3",
   "version": "3.8.5"
  },
  "toc": {
   "base_numbering": 1,
   "nav_menu": {},
   "number_sections": true,
   "sideBar": true,
   "skip_h1_title": false,
   "title_cell": "Table of Contents",
   "title_sidebar": "Contents",
   "toc_cell": false,
   "toc_position": {},
   "toc_section_display": true,
   "toc_window_display": false
  }
 },
 "nbformat": 4,
 "nbformat_minor": 4
}
